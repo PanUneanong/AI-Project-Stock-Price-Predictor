{
  "nbformat": 4,
  "nbformat_minor": 0,
  "metadata": {
    "colab": {
      "name": "AI final project 1.ipynb",
      "provenance": [],
      "collapsed_sections": []
    },
    "kernelspec": {
      "name": "python3",
      "display_name": "Python 3"
    },
    "language_info": {
      "name": "python"
    }
  },
  "cells": [
    {
      "cell_type": "code",
      "execution_count": null,
      "metadata": {
        "colab": {
          "base_uri": "https://localhost:8080/"
        },
        "id": "9iSWkVaKVtIv",
        "outputId": "167da946-56d4-426e-85b7-6c5a97016c77"
      },
      "outputs": [
        {
          "output_type": "stream",
          "name": "stdout",
          "text": [
            "Mounted at /content/drive\n"
          ]
        }
      ],
      "source": [
        "from google.colab import drive\n",
        "drive.mount('/content/drive')"
      ]
    },
    {
      "cell_type": "code",
      "source": [
        "import pandas as pd\n",
        "import numpy as np\n",
        "import matplotlib.pyplot as plt\n",
        "import math\n",
        "from sklearn.model_selection import train_test_split\n",
        "from sklearn.linear_model import LinearRegression\n",
        "from sklearn.metrics import accuracy_score, r2_score\n",
        "from sklearn.model_selection import GridSearchCV\n",
        "from sklearn.feature_selection import RFE\n",
        "from sklearn.model_selection import KFold\n",
        "plt.style.use('ggplot')"
      ],
      "metadata": {
        "id": "_XsODGYqbkA6"
      },
      "execution_count": null,
      "outputs": []
    },
    {
      "cell_type": "code",
      "source": [
        "# We use stock dataset from PTT\n",
        "ptt=pd.read_csv('/content/drive/MyDrive/PTT.BK.csv')\n",
        "ptt.head()"
      ],
      "metadata": {
        "colab": {
          "base_uri": "https://localhost:8080/",
          "height": 206
        },
        "id": "YTvaI6flbSj6",
        "outputId": "01f3b4f0-12c8-430a-8df1-1c5e071f1f82"
      },
      "execution_count": null,
      "outputs": [
        {
          "output_type": "execute_result",
          "data": {
            "text/plain": [
              "         Date   Open   High    Low  Close  Adj Close    Volume\n",
              "0  2021-03-15  41.75  42.00  41.00  41.25  39.222187  80602500\n",
              "1  2021-03-16  41.25  41.25  40.50  40.75  38.746765  63962400\n",
              "2  2021-03-17  40.50  40.75  40.00  40.50  38.509056  94213200\n",
              "3  2021-03-18  40.75  41.25  40.50  40.50  38.509056  48932200\n",
              "4  2021-03-19  40.00  40.50  39.75  40.50  38.509056  80270400"
            ],
            "text/html": [
              "\n",
              "  <div id=\"df-341bf394-cd99-4137-9e2d-0cb9225d9adb\">\n",
              "    <div class=\"colab-df-container\">\n",
              "      <div>\n",
              "<style scoped>\n",
              "    .dataframe tbody tr th:only-of-type {\n",
              "        vertical-align: middle;\n",
              "    }\n",
              "\n",
              "    .dataframe tbody tr th {\n",
              "        vertical-align: top;\n",
              "    }\n",
              "\n",
              "    .dataframe thead th {\n",
              "        text-align: right;\n",
              "    }\n",
              "</style>\n",
              "<table border=\"1\" class=\"dataframe\">\n",
              "  <thead>\n",
              "    <tr style=\"text-align: right;\">\n",
              "      <th></th>\n",
              "      <th>Date</th>\n",
              "      <th>Open</th>\n",
              "      <th>High</th>\n",
              "      <th>Low</th>\n",
              "      <th>Close</th>\n",
              "      <th>Adj Close</th>\n",
              "      <th>Volume</th>\n",
              "    </tr>\n",
              "  </thead>\n",
              "  <tbody>\n",
              "    <tr>\n",
              "      <th>0</th>\n",
              "      <td>2021-03-15</td>\n",
              "      <td>41.75</td>\n",
              "      <td>42.00</td>\n",
              "      <td>41.00</td>\n",
              "      <td>41.25</td>\n",
              "      <td>39.222187</td>\n",
              "      <td>80602500</td>\n",
              "    </tr>\n",
              "    <tr>\n",
              "      <th>1</th>\n",
              "      <td>2021-03-16</td>\n",
              "      <td>41.25</td>\n",
              "      <td>41.25</td>\n",
              "      <td>40.50</td>\n",
              "      <td>40.75</td>\n",
              "      <td>38.746765</td>\n",
              "      <td>63962400</td>\n",
              "    </tr>\n",
              "    <tr>\n",
              "      <th>2</th>\n",
              "      <td>2021-03-17</td>\n",
              "      <td>40.50</td>\n",
              "      <td>40.75</td>\n",
              "      <td>40.00</td>\n",
              "      <td>40.50</td>\n",
              "      <td>38.509056</td>\n",
              "      <td>94213200</td>\n",
              "    </tr>\n",
              "    <tr>\n",
              "      <th>3</th>\n",
              "      <td>2021-03-18</td>\n",
              "      <td>40.75</td>\n",
              "      <td>41.25</td>\n",
              "      <td>40.50</td>\n",
              "      <td>40.50</td>\n",
              "      <td>38.509056</td>\n",
              "      <td>48932200</td>\n",
              "    </tr>\n",
              "    <tr>\n",
              "      <th>4</th>\n",
              "      <td>2021-03-19</td>\n",
              "      <td>40.00</td>\n",
              "      <td>40.50</td>\n",
              "      <td>39.75</td>\n",
              "      <td>40.50</td>\n",
              "      <td>38.509056</td>\n",
              "      <td>80270400</td>\n",
              "    </tr>\n",
              "  </tbody>\n",
              "</table>\n",
              "</div>\n",
              "      <button class=\"colab-df-convert\" onclick=\"convertToInteractive('df-341bf394-cd99-4137-9e2d-0cb9225d9adb')\"\n",
              "              title=\"Convert this dataframe to an interactive table.\"\n",
              "              style=\"display:none;\">\n",
              "        \n",
              "  <svg xmlns=\"http://www.w3.org/2000/svg\" height=\"24px\"viewBox=\"0 0 24 24\"\n",
              "       width=\"24px\">\n",
              "    <path d=\"M0 0h24v24H0V0z\" fill=\"none\"/>\n",
              "    <path d=\"M18.56 5.44l.94 2.06.94-2.06 2.06-.94-2.06-.94-.94-2.06-.94 2.06-2.06.94zm-11 1L8.5 8.5l.94-2.06 2.06-.94-2.06-.94L8.5 2.5l-.94 2.06-2.06.94zm10 10l.94 2.06.94-2.06 2.06-.94-2.06-.94-.94-2.06-.94 2.06-2.06.94z\"/><path d=\"M17.41 7.96l-1.37-1.37c-.4-.4-.92-.59-1.43-.59-.52 0-1.04.2-1.43.59L10.3 9.45l-7.72 7.72c-.78.78-.78 2.05 0 2.83L4 21.41c.39.39.9.59 1.41.59.51 0 1.02-.2 1.41-.59l7.78-7.78 2.81-2.81c.8-.78.8-2.07 0-2.86zM5.41 20L4 18.59l7.72-7.72 1.47 1.35L5.41 20z\"/>\n",
              "  </svg>\n",
              "      </button>\n",
              "      \n",
              "  <style>\n",
              "    .colab-df-container {\n",
              "      display:flex;\n",
              "      flex-wrap:wrap;\n",
              "      gap: 12px;\n",
              "    }\n",
              "\n",
              "    .colab-df-convert {\n",
              "      background-color: #E8F0FE;\n",
              "      border: none;\n",
              "      border-radius: 50%;\n",
              "      cursor: pointer;\n",
              "      display: none;\n",
              "      fill: #1967D2;\n",
              "      height: 32px;\n",
              "      padding: 0 0 0 0;\n",
              "      width: 32px;\n",
              "    }\n",
              "\n",
              "    .colab-df-convert:hover {\n",
              "      background-color: #E2EBFA;\n",
              "      box-shadow: 0px 1px 2px rgba(60, 64, 67, 0.3), 0px 1px 3px 1px rgba(60, 64, 67, 0.15);\n",
              "      fill: #174EA6;\n",
              "    }\n",
              "\n",
              "    [theme=dark] .colab-df-convert {\n",
              "      background-color: #3B4455;\n",
              "      fill: #D2E3FC;\n",
              "    }\n",
              "\n",
              "    [theme=dark] .colab-df-convert:hover {\n",
              "      background-color: #434B5C;\n",
              "      box-shadow: 0px 1px 3px 1px rgba(0, 0, 0, 0.15);\n",
              "      filter: drop-shadow(0px 1px 2px rgba(0, 0, 0, 0.3));\n",
              "      fill: #FFFFFF;\n",
              "    }\n",
              "  </style>\n",
              "\n",
              "      <script>\n",
              "        const buttonEl =\n",
              "          document.querySelector('#df-341bf394-cd99-4137-9e2d-0cb9225d9adb button.colab-df-convert');\n",
              "        buttonEl.style.display =\n",
              "          google.colab.kernel.accessAllowed ? 'block' : 'none';\n",
              "\n",
              "        async function convertToInteractive(key) {\n",
              "          const element = document.querySelector('#df-341bf394-cd99-4137-9e2d-0cb9225d9adb');\n",
              "          const dataTable =\n",
              "            await google.colab.kernel.invokeFunction('convertToInteractive',\n",
              "                                                     [key], {});\n",
              "          if (!dataTable) return;\n",
              "\n",
              "          const docLinkHtml = 'Like what you see? Visit the ' +\n",
              "            '<a target=\"_blank\" href=https://colab.research.google.com/notebooks/data_table.ipynb>data table notebook</a>'\n",
              "            + ' to learn more about interactive tables.';\n",
              "          element.innerHTML = '';\n",
              "          dataTable['output_type'] = 'display_data';\n",
              "          await google.colab.output.renderOutput(dataTable, element);\n",
              "          const docLink = document.createElement('div');\n",
              "          docLink.innerHTML = docLinkHtml;\n",
              "          element.appendChild(docLink);\n",
              "        }\n",
              "      </script>\n",
              "    </div>\n",
              "  </div>\n",
              "  "
            ]
          },
          "metadata": {},
          "execution_count": 3
        }
      ]
    },
    {
      "cell_type": "code",
      "source": [
        "ptt.tail()"
      ],
      "metadata": {
        "colab": {
          "base_uri": "https://localhost:8080/",
          "height": 206
        },
        "id": "5tY90EZuj9wi",
        "outputId": "9d440ce5-3ccd-4b7a-e30e-575b8cc3c8bd"
      },
      "execution_count": null,
      "outputs": [
        {
          "output_type": "execute_result",
          "data": {
            "text/plain": [
              "           Date   Open   High    Low  Close  Adj Close    Volume\n",
              "238  2022-03-09  38.50  38.75  38.00  38.75      38.75  81740400\n",
              "239  2022-03-10  38.50  38.75  38.25  38.75      38.75  64666100\n",
              "240  2022-03-11  38.50  39.75  38.25  39.50      39.50  89337900\n",
              "241  2022-03-14  39.25  39.50  39.25  39.50      39.50  24802800\n",
              "242  2022-03-15  38.75  39.00  38.25  38.75      38.75  60174700"
            ],
            "text/html": [
              "\n",
              "  <div id=\"df-c78a5fd9-1c71-4f29-894b-8a7c5aa630c6\">\n",
              "    <div class=\"colab-df-container\">\n",
              "      <div>\n",
              "<style scoped>\n",
              "    .dataframe tbody tr th:only-of-type {\n",
              "        vertical-align: middle;\n",
              "    }\n",
              "\n",
              "    .dataframe tbody tr th {\n",
              "        vertical-align: top;\n",
              "    }\n",
              "\n",
              "    .dataframe thead th {\n",
              "        text-align: right;\n",
              "    }\n",
              "</style>\n",
              "<table border=\"1\" class=\"dataframe\">\n",
              "  <thead>\n",
              "    <tr style=\"text-align: right;\">\n",
              "      <th></th>\n",
              "      <th>Date</th>\n",
              "      <th>Open</th>\n",
              "      <th>High</th>\n",
              "      <th>Low</th>\n",
              "      <th>Close</th>\n",
              "      <th>Adj Close</th>\n",
              "      <th>Volume</th>\n",
              "    </tr>\n",
              "  </thead>\n",
              "  <tbody>\n",
              "    <tr>\n",
              "      <th>238</th>\n",
              "      <td>2022-03-09</td>\n",
              "      <td>38.50</td>\n",
              "      <td>38.75</td>\n",
              "      <td>38.00</td>\n",
              "      <td>38.75</td>\n",
              "      <td>38.75</td>\n",
              "      <td>81740400</td>\n",
              "    </tr>\n",
              "    <tr>\n",
              "      <th>239</th>\n",
              "      <td>2022-03-10</td>\n",
              "      <td>38.50</td>\n",
              "      <td>38.75</td>\n",
              "      <td>38.25</td>\n",
              "      <td>38.75</td>\n",
              "      <td>38.75</td>\n",
              "      <td>64666100</td>\n",
              "    </tr>\n",
              "    <tr>\n",
              "      <th>240</th>\n",
              "      <td>2022-03-11</td>\n",
              "      <td>38.50</td>\n",
              "      <td>39.75</td>\n",
              "      <td>38.25</td>\n",
              "      <td>39.50</td>\n",
              "      <td>39.50</td>\n",
              "      <td>89337900</td>\n",
              "    </tr>\n",
              "    <tr>\n",
              "      <th>241</th>\n",
              "      <td>2022-03-14</td>\n",
              "      <td>39.25</td>\n",
              "      <td>39.50</td>\n",
              "      <td>39.25</td>\n",
              "      <td>39.50</td>\n",
              "      <td>39.50</td>\n",
              "      <td>24802800</td>\n",
              "    </tr>\n",
              "    <tr>\n",
              "      <th>242</th>\n",
              "      <td>2022-03-15</td>\n",
              "      <td>38.75</td>\n",
              "      <td>39.00</td>\n",
              "      <td>38.25</td>\n",
              "      <td>38.75</td>\n",
              "      <td>38.75</td>\n",
              "      <td>60174700</td>\n",
              "    </tr>\n",
              "  </tbody>\n",
              "</table>\n",
              "</div>\n",
              "      <button class=\"colab-df-convert\" onclick=\"convertToInteractive('df-c78a5fd9-1c71-4f29-894b-8a7c5aa630c6')\"\n",
              "              title=\"Convert this dataframe to an interactive table.\"\n",
              "              style=\"display:none;\">\n",
              "        \n",
              "  <svg xmlns=\"http://www.w3.org/2000/svg\" height=\"24px\"viewBox=\"0 0 24 24\"\n",
              "       width=\"24px\">\n",
              "    <path d=\"M0 0h24v24H0V0z\" fill=\"none\"/>\n",
              "    <path d=\"M18.56 5.44l.94 2.06.94-2.06 2.06-.94-2.06-.94-.94-2.06-.94 2.06-2.06.94zm-11 1L8.5 8.5l.94-2.06 2.06-.94-2.06-.94L8.5 2.5l-.94 2.06-2.06.94zm10 10l.94 2.06.94-2.06 2.06-.94-2.06-.94-.94-2.06-.94 2.06-2.06.94z\"/><path d=\"M17.41 7.96l-1.37-1.37c-.4-.4-.92-.59-1.43-.59-.52 0-1.04.2-1.43.59L10.3 9.45l-7.72 7.72c-.78.78-.78 2.05 0 2.83L4 21.41c.39.39.9.59 1.41.59.51 0 1.02-.2 1.41-.59l7.78-7.78 2.81-2.81c.8-.78.8-2.07 0-2.86zM5.41 20L4 18.59l7.72-7.72 1.47 1.35L5.41 20z\"/>\n",
              "  </svg>\n",
              "      </button>\n",
              "      \n",
              "  <style>\n",
              "    .colab-df-container {\n",
              "      display:flex;\n",
              "      flex-wrap:wrap;\n",
              "      gap: 12px;\n",
              "    }\n",
              "\n",
              "    .colab-df-convert {\n",
              "      background-color: #E8F0FE;\n",
              "      border: none;\n",
              "      border-radius: 50%;\n",
              "      cursor: pointer;\n",
              "      display: none;\n",
              "      fill: #1967D2;\n",
              "      height: 32px;\n",
              "      padding: 0 0 0 0;\n",
              "      width: 32px;\n",
              "    }\n",
              "\n",
              "    .colab-df-convert:hover {\n",
              "      background-color: #E2EBFA;\n",
              "      box-shadow: 0px 1px 2px rgba(60, 64, 67, 0.3), 0px 1px 3px 1px rgba(60, 64, 67, 0.15);\n",
              "      fill: #174EA6;\n",
              "    }\n",
              "\n",
              "    [theme=dark] .colab-df-convert {\n",
              "      background-color: #3B4455;\n",
              "      fill: #D2E3FC;\n",
              "    }\n",
              "\n",
              "    [theme=dark] .colab-df-convert:hover {\n",
              "      background-color: #434B5C;\n",
              "      box-shadow: 0px 1px 3px 1px rgba(0, 0, 0, 0.15);\n",
              "      filter: drop-shadow(0px 1px 2px rgba(0, 0, 0, 0.3));\n",
              "      fill: #FFFFFF;\n",
              "    }\n",
              "  </style>\n",
              "\n",
              "      <script>\n",
              "        const buttonEl =\n",
              "          document.querySelector('#df-c78a5fd9-1c71-4f29-894b-8a7c5aa630c6 button.colab-df-convert');\n",
              "        buttonEl.style.display =\n",
              "          google.colab.kernel.accessAllowed ? 'block' : 'none';\n",
              "\n",
              "        async function convertToInteractive(key) {\n",
              "          const element = document.querySelector('#df-c78a5fd9-1c71-4f29-894b-8a7c5aa630c6');\n",
              "          const dataTable =\n",
              "            await google.colab.kernel.invokeFunction('convertToInteractive',\n",
              "                                                     [key], {});\n",
              "          if (!dataTable) return;\n",
              "\n",
              "          const docLinkHtml = 'Like what you see? Visit the ' +\n",
              "            '<a target=\"_blank\" href=https://colab.research.google.com/notebooks/data_table.ipynb>data table notebook</a>'\n",
              "            + ' to learn more about interactive tables.';\n",
              "          element.innerHTML = '';\n",
              "          dataTable['output_type'] = 'display_data';\n",
              "          await google.colab.output.renderOutput(dataTable, element);\n",
              "          const docLink = document.createElement('div');\n",
              "          docLink.innerHTML = docLinkHtml;\n",
              "          element.appendChild(docLink);\n",
              "        }\n",
              "      </script>\n",
              "    </div>\n",
              "  </div>\n",
              "  "
            ]
          },
          "metadata": {},
          "execution_count": 4
        }
      ]
    },
    {
      "cell_type": "code",
      "source": [
        "print(f\"We have {len(ptt.index)} datas.\")"
      ],
      "metadata": {
        "colab": {
          "base_uri": "https://localhost:8080/"
        },
        "id": "ExC_5OZnb-8e",
        "outputId": "b0416258-bdb5-4cb8-fa7a-43d44336cdc5"
      },
      "execution_count": null,
      "outputs": [
        {
          "output_type": "stream",
          "name": "stdout",
          "text": [
            "We have 243 datas.\n"
          ]
        }
      ]
    },
    {
      "cell_type": "code",
      "source": [
        "reg = np.polyfit(ptt['Open'],ptt['Close'],deg=1)\n",
        "tend = np.polyval(reg,ptt['Open'])\n",
        "plt.scatter(x=ptt['Open'],y=ptt['Close'],color='Blue')\n",
        "plt.plot(ptt['Open'], tend, 'r');"
      ],
      "metadata": {
        "id": "ZLYfppbhzIaL",
        "colab": {
          "base_uri": "https://localhost:8080/",
          "height": 265
        },
        "outputId": "dc91025c-8c52-4688-caab-d2306bed0740"
      },
      "execution_count": null,
      "outputs": [
        {
          "output_type": "display_data",
          "data": {
            "text/plain": [
              "<Figure size 432x288 with 1 Axes>"
            ],
            "image/png": "[encoded data removed]"
          },
          "metadata": {}
        }
      ]
    },
    {
      "cell_type": "code",
      "source": [
        "# Drop the columns that we don't use\n",
        "ptt.drop(['Date'], axis = 1, inplace = True)\n",
        "ptt.drop(['Adj Close'], axis = 1, inplace = True)\n",
        "ptt.drop(['Volume'], axis = 1, inplace = True)\n",
        "ptt.head()"
      ],
      "metadata": {
        "colab": {
          "base_uri": "https://localhost:8080/",
          "height": 206
        },
        "id": "1bLLNBSNfyBs",
        "outputId": "c7cc584f-4f32-42e9-a97d-6d533616692b"
      },
      "execution_count": null,
      "outputs": [
        {
          "output_type": "execute_result",
          "data": {
            "text/plain": [
              "    Open   High    Low  Close\n",
              "0  41.75  42.00  41.00  41.25\n",
              "1  41.25  41.25  40.50  40.75\n",
              "2  40.50  40.75  40.00  40.50\n",
              "3  40.75  41.25  40.50  40.50\n",
              "4  40.00  40.50  39.75  40.50"
            ],
            "text/html": [
              "\n",
              "  <div id=\"df-447af25a-f948-4c41-acad-b1fc6c1e5687\">\n",
              "    <div class=\"colab-df-container\">\n",
              "      <div>\n",
              "<style scoped>\n",
              "    .dataframe tbody tr th:only-of-type {\n",
              "        vertical-align: middle;\n",
              "    }\n",
              "\n",
              "    .dataframe tbody tr th {\n",
              "        vertical-align: top;\n",
              "    }\n",
              "\n",
              "    .dataframe thead th {\n",
              "        text-align: right;\n",
              "    }\n",
              "</style>\n",
              "<table border=\"1\" class=\"dataframe\">\n",
              "  <thead>\n",
              "    <tr style=\"text-align: right;\">\n",
              "      <th></th>\n",
              "      <th>Open</th>\n",
              "      <th>High</th>\n",
              "      <th>Low</th>\n",
              "      <th>Close</th>\n",
              "    </tr>\n",
              "  </thead>\n",
              "  <tbody>\n",
              "    <tr>\n",
              "      <th>0</th>\n",
              "      <td>41.75</td>\n",
              "      <td>42.00</td>\n",
              "      <td>41.00</td>\n",
              "      <td>41.25</td>\n",
              "    </tr>\n",
              "    <tr>\n",
              "      <th>1</th>\n",
              "      <td>41.25</td>\n",
              "      <td>41.25</td>\n",
              "      <td>40.50</td>\n",
              "      <td>40.75</td>\n",
              "    </tr>\n",
              "    <tr>\n",
              "      <th>2</th>\n",
              "      <td>40.50</td>\n",
              "      <td>40.75</td>\n",
              "      <td>40.00</td>\n",
              "      <td>40.50</td>\n",
              "    </tr>\n",
              "    <tr>\n",
              "      <th>3</th>\n",
              "      <td>40.75</td>\n",
              "      <td>41.25</td>\n",
              "      <td>40.50</td>\n",
              "      <td>40.50</td>\n",
              "    </tr>\n",
              "    <tr>\n",
              "      <th>4</th>\n",
              "      <td>40.00</td>\n",
              "      <td>40.50</td>\n",
              "      <td>39.75</td>\n",
              "      <td>40.50</td>\n",
              "    </tr>\n",
              "  </tbody>\n",
              "</table>\n",
              "</div>\n",
              "      <button class=\"colab-df-convert\" onclick=\"convertToInteractive('df-447af25a-f948-4c41-acad-b1fc6c1e5687')\"\n",
              "              title=\"Convert this dataframe to an interactive table.\"\n",
              "              style=\"display:none;\">\n",
              "        \n",
              "  <svg xmlns=\"http://www.w3.org/2000/svg\" height=\"24px\"viewBox=\"0 0 24 24\"\n",
              "       width=\"24px\">\n",
              "    <path d=\"M0 0h24v24H0V0z\" fill=\"none\"/>\n",
              "    <path d=\"M18.56 5.44l.94 2.06.94-2.06 2.06-.94-2.06-.94-.94-2.06-.94 2.06-2.06.94zm-11 1L8.5 8.5l.94-2.06 2.06-.94-2.06-.94L8.5 2.5l-.94 2.06-2.06.94zm10 10l.94 2.06.94-2.06 2.06-.94-2.06-.94-.94-2.06-.94 2.06-2.06.94z\"/><path d=\"M17.41 7.96l-1.37-1.37c-.4-.4-.92-.59-1.43-.59-.52 0-1.04.2-1.43.59L10.3 9.45l-7.72 7.72c-.78.78-.78 2.05 0 2.83L4 21.41c.39.39.9.59 1.41.59.51 0 1.02-.2 1.41-.59l7.78-7.78 2.81-2.81c.8-.78.8-2.07 0-2.86zM5.41 20L4 18.59l7.72-7.72 1.47 1.35L5.41 20z\"/>\n",
              "  </svg>\n",
              "      </button>\n",
              "      \n",
              "  <style>\n",
              "    .colab-df-container {\n",
              "      display:flex;\n",
              "      flex-wrap:wrap;\n",
              "      gap: 12px;\n",
              "    }\n",
              "\n",
              "    .colab-df-convert {\n",
              "      background-color: #E8F0FE;\n",
              "      border: none;\n",
              "      border-radius: 50%;\n",
              "      cursor: pointer;\n",
              "      display: none;\n",
              "      fill: #1967D2;\n",
              "      height: 32px;\n",
              "      padding: 0 0 0 0;\n",
              "      width: 32px;\n",
              "    }\n",
              "\n",
              "    .colab-df-convert:hover {\n",
              "      background-color: #E2EBFA;\n",
              "      box-shadow: 0px 1px 2px rgba(60, 64, 67, 0.3), 0px 1px 3px 1px rgba(60, 64, 67, 0.15);\n",
              "      fill: #174EA6;\n",
              "    }\n",
              "\n",
              "    [theme=dark] .colab-df-convert {\n",
              "      background-color: #3B4455;\n",
              "      fill: #D2E3FC;\n",
              "    }\n",
              "\n",
              "    [theme=dark] .colab-df-convert:hover {\n",
              "      background-color: #434B5C;\n",
              "      box-shadow: 0px 1px 3px 1px rgba(0, 0, 0, 0.15);\n",
              "      filter: drop-shadow(0px 1px 2px rgba(0, 0, 0, 0.3));\n",
              "      fill: #FFFFFF;\n",
              "    }\n",
              "  </style>\n",
              "\n",
              "      <script>\n",
              "        const buttonEl =\n",
              "          document.querySelector('#df-447af25a-f948-4c41-acad-b1fc6c1e5687 button.colab-df-convert');\n",
              "        buttonEl.style.display =\n",
              "          google.colab.kernel.accessAllowed ? 'block' : 'none';\n",
              "\n",
              "        async function convertToInteractive(key) {\n",
              "          const element = document.querySelector('#df-447af25a-f948-4c41-acad-b1fc6c1e5687');\n",
              "          const dataTable =\n",
              "            await google.colab.kernel.invokeFunction('convertToInteractive',\n",
              "                                                     [key], {});\n",
              "          if (!dataTable) return;\n",
              "\n",
              "          const docLinkHtml = 'Like what you see? Visit the ' +\n",
              "            '<a target=\"_blank\" href=https://colab.research.google.com/notebooks/data_table.ipynb>data table notebook</a>'\n",
              "            + ' to learn more about interactive tables.';\n",
              "          element.innerHTML = '';\n",
              "          dataTable['output_type'] = 'display_data';\n",
              "          await google.colab.output.renderOutput(dataTable, element);\n",
              "          const docLink = document.createElement('div');\n",
              "          docLink.innerHTML = docLinkHtml;\n",
              "          element.appendChild(docLink);\n",
              "        }\n",
              "      </script>\n",
              "    </div>\n",
              "  </div>\n",
              "  "
            ]
          },
          "metadata": {},
          "execution_count": 7
        }
      ]
    },
    {
      "cell_type": "code",
      "source": [
        "# Define x and y\n",
        "# y is what column do we want to predict\n",
        "# x is the other columns except the one we want to predict\n",
        "x=ptt.drop(['Close'], axis=1)\n",
        "y=ptt['Close']\n",
        "print(f\"x---------------------------{len(x)}\\n{x.head()}\")\n",
        "print(f\"y---------------------------{len(y)}\\n{y.head()}\")"
      ],
      "metadata": {
        "colab": {
          "base_uri": "https://localhost:8080/"
        },
        "id": "hnjQZbWdfsV2",
        "outputId": "e422df91-4583-478b-d519-fe97f86e53ae"
      },
      "execution_count": null,
      "outputs": [
        {
          "output_type": "stream",
          "name": "stdout",
          "text": [
            "x---------------------------243\n",
            "    Open   High    Low\n",
            "0  41.75  42.00  41.00\n",
            "1  41.25  41.25  40.50\n",
            "2  40.50  40.75  40.00\n",
            "3  40.75  41.25  40.50\n",
            "4  40.00  40.50  39.75\n",
            "y---------------------------243\n",
            "0    41.25\n",
            "1    40.75\n",
            "2    40.50\n",
            "3    40.50\n",
            "4    40.50\n",
            "Name: Close, dtype: float64\n"
          ]
        }
      ]
    },
    {
      "cell_type": "code",
      "source": [
        "# Define x_test, x_train, y_test and y_train data\n",
        "x_train, x_test, y_train, y_test = train_test_split(x,y,test_size=0.2,random_state=100)\n",
        "print(f\"x_test---------------------------{len(x_test)}\\n{x_test.head()}\")\n",
        "print(f\"x_train---------------------------{len(x_train)}\\n{x_train.head()}\")\n",
        "print(f\"y_test---------------------------{len(y_test)}\\n{y_test.head()}\")\n",
        "print(f\"y_train---------------------------{len(y_train)}\\n{y_train.head()}\")"
      ],
      "metadata": {
        "colab": {
          "base_uri": "https://localhost:8080/"
        },
        "id": "pyi223x8hyrv",
        "outputId": "742448f2-2ea4-49bd-e2f7-f6afed92fe23"
      },
      "execution_count": null,
      "outputs": [
        {
          "output_type": "stream",
          "name": "stdout",
          "text": [
            "x_test---------------------------49\n",
            "      Open   High    Low\n",
            "65   40.00  40.25  39.50\n",
            "59   41.00  42.00  40.75\n",
            "191  37.75  38.25  37.75\n",
            "111  38.25  38.50  37.50\n",
            "112  37.50  38.25  37.25\n",
            "x_train---------------------------194\n",
            "      Open   High    Low\n",
            "29   39.75  40.75  39.50\n",
            "42   39.75  39.75  38.75\n",
            "115  37.75  38.25  37.50\n",
            "165  38.00  38.25  37.50\n",
            "221  40.25  40.50  40.00\n",
            "y_test---------------------------49\n",
            "65     40.00\n",
            "59     41.25\n",
            "191    38.25\n",
            "111    37.50\n",
            "112    38.00\n",
            "Name: Close, dtype: float64\n",
            "y_train---------------------------194\n",
            "29     40.50\n",
            "42     39.00\n",
            "115    37.50\n",
            "165    37.75\n",
            "221    40.25\n",
            "Name: Close, dtype: float64\n"
          ]
        }
      ]
    },
    {
      "cell_type": "code",
      "source": [
        "# Define test and train data\n",
        "test = pd.concat([x_test, y_test], axis = 1)\n",
        "train = pd.concat([x_train, y_train], axis = 1)\n",
        "print(f\"test---------------------------{len(test)}\\n{test.head()}\")\n",
        "print(f\"train---------------------------{len(train)}\\n{train.head()}\")"
      ],
      "metadata": {
        "colab": {
          "base_uri": "https://localhost:8080/"
        },
        "id": "NC51QsGf0BVe",
        "outputId": "63740dc4-ef95-4cef-debc-a210fb3a10d8"
      },
      "execution_count": null,
      "outputs": [
        {
          "output_type": "stream",
          "name": "stdout",
          "text": [
            "test---------------------------49\n",
            "      Open   High    Low  Close\n",
            "65   40.00  40.25  39.50  40.00\n",
            "59   41.00  42.00  40.75  41.25\n",
            "191  37.75  38.25  37.75  38.25\n",
            "111  38.25  38.50  37.50  37.50\n",
            "112  37.50  38.25  37.25  38.00\n",
            "train---------------------------194\n",
            "      Open   High    Low  Close\n",
            "29   39.75  40.75  39.50  40.50\n",
            "42   39.75  39.75  38.75  39.00\n",
            "115  37.75  38.25  37.50  37.50\n",
            "165  38.00  38.25  37.50  37.75\n",
            "221  40.25  40.50  40.00  40.25\n"
          ]
        }
      ]
    },
    {
      "cell_type": "code",
      "source": [
        "# Create model for linear regression and train the model\n",
        "model = LinearRegression()\n",
        "model.fit(x_train.values,y_train.values) # training the model\n",
        "rfe=RFE(model,n_features_to_select=6)\n",
        "rfe = rfe.fit(x_train.values, y_train.values)"
      ],
      "metadata": {
        "id": "kkRlKvqzjm9X"
      },
      "execution_count": null,
      "outputs": []
    },
    {
      "cell_type": "code",
      "source": [
        "# Predict the test data\n",
        "pred = rfe.predict(x_test.values)\n",
        "pred"
      ],
      "metadata": {
        "colab": {
          "base_uri": "https://localhost:8080/"
        },
        "id": "sPaRwHcGPjjY",
        "outputId": "d2f88fb2-fd53-425d-d2b1-e1a047f4be92"
      },
      "execution_count": null,
      "outputs": [
        {
          "output_type": "execute_result",
          "data": {
            "text/plain": [
              "array([39.77142239, 41.54698989, 38.09946116, 37.85194811, 37.8702264 ,\n",
              "       38.05149223, 38.21447976, 37.65160154, 35.11967523, 35.86542416,\n",
              "       38.34777665, 39.79130558, 35.3017435 , 36.2279558 , 37.08792089,\n",
              "       37.28826745, 39.45605723, 34.42350012, 37.22121778, 37.89911459,\n",
              "       38.77816042, 39.83766962, 38.28152943, 37.96616426, 39.2930697 ,\n",
              "       38.99678528, 38.71111075, 40.4493192 , 38.66314182, 38.57781385,\n",
              "       40.20100371, 39.77142239, 40.89798126, 39.57107583, 39.72345346,\n",
              "       34.9384094 , 38.71111075, 39.5231069 , 40.26805338, 39.45605723,\n",
              "       38.28152943, 40.40135027, 37.26918671, 37.73773196, 37.55646613,\n",
              "       38.89317901, 39.02647591, 38.28152943, 39.70437272])"
            ]
          },
          "metadata": {},
          "execution_count": 12
        }
      ]
    },
    {
      "cell_type": "code",
      "source": [
        "# Compare the actual test value and the predicted value\n",
        "pred_concat = pd.concat([y_test.reset_index(),pd.Series(pred, name = \"Predicted\")],axis=1)\n",
        "pred_concat.head()"
      ],
      "metadata": {
        "colab": {
          "base_uri": "https://localhost:8080/",
          "height": 206
        },
        "id": "SQdyRgRD1VZ6",
        "outputId": "b88dad23-dac7-4a6f-a928-93145a34c69b"
      },
      "execution_count": null,
      "outputs": [
        {
          "output_type": "execute_result",
          "data": {
            "text/plain": [
              "   index  Close  Predicted\n",
              "0     65  40.00  39.771422\n",
              "1     59  41.25  41.546990\n",
              "2    191  38.25  38.099461\n",
              "3    111  37.50  37.851948\n",
              "4    112  38.00  37.870226"
            ],
            "text/html": [
              "\n",
              "  <div id=\"df-180b80db-0e2c-43d2-96ef-ee48a2a9df37\">\n",
              "    <div class=\"colab-df-container\">\n",
              "      <div>\n",
              "<style scoped>\n",
              "    .dataframe tbody tr th:only-of-type {\n",
              "        vertical-align: middle;\n",
              "    }\n",
              "\n",
              "    .dataframe tbody tr th {\n",
              "        vertical-align: top;\n",
              "    }\n",
              "\n",
              "    .dataframe thead th {\n",
              "        text-align: right;\n",
              "    }\n",
              "</style>\n",
              "<table border=\"1\" class=\"dataframe\">\n",
              "  <thead>\n",
              "    <tr style=\"text-align: right;\">\n",
              "      <th></th>\n",
              "      <th>index</th>\n",
              "      <th>Close</th>\n",
              "      <th>Predicted</th>\n",
              "    </tr>\n",
              "  </thead>\n",
              "  <tbody>\n",
              "    <tr>\n",
              "      <th>0</th>\n",
              "      <td>65</td>\n",
              "      <td>40.00</td>\n",
              "      <td>39.771422</td>\n",
              "    </tr>\n",
              "    <tr>\n",
              "      <th>1</th>\n",
              "      <td>59</td>\n",
              "      <td>41.25</td>\n",
              "      <td>41.546990</td>\n",
              "    </tr>\n",
              "    <tr>\n",
              "      <th>2</th>\n",
              "      <td>191</td>\n",
              "      <td>38.25</td>\n",
              "      <td>38.099461</td>\n",
              "    </tr>\n",
              "    <tr>\n",
              "      <th>3</th>\n",
              "      <td>111</td>\n",
              "      <td>37.50</td>\n",
              "      <td>37.851948</td>\n",
              "    </tr>\n",
              "    <tr>\n",
              "      <th>4</th>\n",
              "      <td>112</td>\n",
              "      <td>38.00</td>\n",
              "      <td>37.870226</td>\n",
              "    </tr>\n",
              "  </tbody>\n",
              "</table>\n",
              "</div>\n",
              "      <button class=\"colab-df-convert\" onclick=\"convertToInteractive('df-180b80db-0e2c-43d2-96ef-ee48a2a9df37')\"\n",
              "              title=\"Convert this dataframe to an interactive table.\"\n",
              "              style=\"display:none;\">\n",
              "        \n",
              "  <svg xmlns=\"http://www.w3.org/2000/svg\" height=\"24px\"viewBox=\"0 0 24 24\"\n",
              "       width=\"24px\">\n",
              "    <path d=\"M0 0h24v24H0V0z\" fill=\"none\"/>\n",
              "    <path d=\"M18.56 5.44l.94 2.06.94-2.06 2.06-.94-2.06-.94-.94-2.06-.94 2.06-2.06.94zm-11 1L8.5 8.5l.94-2.06 2.06-.94-2.06-.94L8.5 2.5l-.94 2.06-2.06.94zm10 10l.94 2.06.94-2.06 2.06-.94-2.06-.94-.94-2.06-.94 2.06-2.06.94z\"/><path d=\"M17.41 7.96l-1.37-1.37c-.4-.4-.92-.59-1.43-.59-.52 0-1.04.2-1.43.59L10.3 9.45l-7.72 7.72c-.78.78-.78 2.05 0 2.83L4 21.41c.39.39.9.59 1.41.59.51 0 1.02-.2 1.41-.59l7.78-7.78 2.81-2.81c.8-.78.8-2.07 0-2.86zM5.41 20L4 18.59l7.72-7.72 1.47 1.35L5.41 20z\"/>\n",
              "  </svg>\n",
              "      </button>\n",
              "      \n",
              "  <style>\n",
              "    .colab-df-container {\n",
              "      display:flex;\n",
              "      flex-wrap:wrap;\n",
              "      gap: 12px;\n",
              "    }\n",
              "\n",
              "    .colab-df-convert {\n",
              "      background-color: #E8F0FE;\n",
              "      border: none;\n",
              "      border-radius: 50%;\n",
              "      cursor: pointer;\n",
              "      display: none;\n",
              "      fill: #1967D2;\n",
              "      height: 32px;\n",
              "      padding: 0 0 0 0;\n",
              "      width: 32px;\n",
              "    }\n",
              "\n",
              "    .colab-df-convert:hover {\n",
              "      background-color: #E2EBFA;\n",
              "      box-shadow: 0px 1px 2px rgba(60, 64, 67, 0.3), 0px 1px 3px 1px rgba(60, 64, 67, 0.15);\n",
              "      fill: #174EA6;\n",
              "    }\n",
              "\n",
              "    [theme=dark] .colab-df-convert {\n",
              "      background-color: #3B4455;\n",
              "      fill: #D2E3FC;\n",
              "    }\n",
              "\n",
              "    [theme=dark] .colab-df-convert:hover {\n",
              "      background-color: #434B5C;\n",
              "      box-shadow: 0px 1px 3px 1px rgba(0, 0, 0, 0.15);\n",
              "      filter: drop-shadow(0px 1px 2px rgba(0, 0, 0, 0.3));\n",
              "      fill: #FFFFFF;\n",
              "    }\n",
              "  </style>\n",
              "\n",
              "      <script>\n",
              "        const buttonEl =\n",
              "          document.querySelector('#df-180b80db-0e2c-43d2-96ef-ee48a2a9df37 button.colab-df-convert');\n",
              "        buttonEl.style.display =\n",
              "          google.colab.kernel.accessAllowed ? 'block' : 'none';\n",
              "\n",
              "        async function convertToInteractive(key) {\n",
              "          const element = document.querySelector('#df-180b80db-0e2c-43d2-96ef-ee48a2a9df37');\n",
              "          const dataTable =\n",
              "            await google.colab.kernel.invokeFunction('convertToInteractive',\n",
              "                                                     [key], {});\n",
              "          if (!dataTable) return;\n",
              "\n",
              "          const docLinkHtml = 'Like what you see? Visit the ' +\n",
              "            '<a target=\"_blank\" href=https://colab.research.google.com/notebooks/data_table.ipynb>data table notebook</a>'\n",
              "            + ' to learn more about interactive tables.';\n",
              "          element.innerHTML = '';\n",
              "          dataTable['output_type'] = 'display_data';\n",
              "          await google.colab.output.renderOutput(dataTable, element);\n",
              "          const docLink = document.createElement('div');\n",
              "          docLink.innerHTML = docLinkHtml;\n",
              "          element.appendChild(docLink);\n",
              "        }\n",
              "      </script>\n",
              "    </div>\n",
              "  </div>\n",
              "  "
            ]
          },
          "metadata": {},
          "execution_count": 13
        }
      ]
    },
    {
      "cell_type": "code",
      "source": [
        "# Sort the index\n",
        "concat_sorted = pred_concat.sort_values([\"index\"], ascending=True)\n",
        "print(concat_sorted)"
      ],
      "metadata": {
        "colab": {
          "base_uri": "https://localhost:8080/"
        },
        "id": "acUS0XUb20h7",
        "outputId": "00432436-814d-4cde-96a6-9c390ecf0579"
      },
      "execution_count": null,
      "outputs": [
        {
          "output_type": "stream",
          "name": "stdout",
          "text": [
            "    index  Close  Predicted\n",
            "32      3  40.50  40.897981\n",
            "46     19  39.00  39.026476\n",
            "26     26  38.75  38.711111\n",
            "11     31  39.50  39.791306\n",
            "34     32  39.75  39.723453\n",
            "39     41  39.75  39.456057\n",
            "20     46  38.75  38.778160\n",
            "1      59  41.25  41.546990\n",
            "48     62  39.75  39.704373\n",
            "30     64  40.00  40.201004\n",
            "0      65  40.00  39.771422\n",
            "16     69  39.25  39.456057\n",
            "44     75  37.25  37.556466\n",
            "18     81  37.50  37.221218\n",
            "9      83  35.75  35.865424\n",
            "13     85  36.25  36.227956\n",
            "12     88  35.50  35.301743\n",
            "35     96  34.75  34.938409\n",
            "17     97  34.50  34.423500\n",
            "8      99  35.25  35.119675\n",
            "40    110  38.25  38.281529\n",
            "3     111  37.50  37.851948\n",
            "4     112  38.00  37.870226\n",
            "24    125  39.50  39.293070\n",
            "41    128  40.50  40.401350\n",
            "37    140  39.50  39.523107\n",
            "21    142  40.00  39.837670\n",
            "6     150  38.00  38.214480\n",
            "23    152  38.00  37.966164\n",
            "7     160  37.50  37.651602\n",
            "5     161  38.00  38.051492\n",
            "10    163  38.00  38.347777\n",
            "15    182  37.50  37.288267\n",
            "14    185  37.00  37.087921\n",
            "42    186  37.50  37.269187\n",
            "19    190  38.00  37.899115\n",
            "2     191  38.25  38.099461\n",
            "29    201  38.75  38.577814\n",
            "25    204  39.00  38.996785\n",
            "28    209  39.00  38.663142\n",
            "47    210  38.75  38.281529\n",
            "36    211  38.75  38.711111\n",
            "45    213  38.75  38.893179\n",
            "31    217  40.00  39.771422\n",
            "27    220  40.50  40.449319\n",
            "38    223  40.25  40.268053\n",
            "33    225  39.50  39.571076\n",
            "43    237  38.25  37.737732\n",
            "22    238  38.75  38.281529\n"
          ]
        }
      ]
    },
    {
      "cell_type": "code",
      "source": [
        "# Plot the graph to compare the actual and predicted values\n",
        "plt.plot(concat_sorted['index'],concat_sorted['Close'],color='Blue',label='Close')\n",
        "plt.plot(concat_sorted['index'],concat_sorted['Predicted'],color='Red',label='Predicted')\n",
        "plt.legend(loc='lower left')\n",
        "plt.plot();"
      ],
      "metadata": {
        "colab": {
          "base_uri": "https://localhost:8080/",
          "height": 265
        },
        "id": "uJUJ3lE_yVbX",
        "outputId": "b1af95e7-2caf-4b37-99fa-f217ea3f46c0"
      },
      "execution_count": null,
      "outputs": [
        {
          "output_type": "display_data",
          "data": {
            "text/plain": [
              "<Figure size 432x288 with 1 Axes>"
            ],
            "image/png": "[encoded data removed]"
          },
          "metadata": {}
        }
      ]
    },
    {
      "cell_type": "code",
      "source": [
        "# Convert y_test to array\n",
        "y_test_array = y_test.to_numpy()"
      ],
      "metadata": {
        "id": "eibl0dv83f72"
      },
      "execution_count": null,
      "outputs": []
    },
    {
      "cell_type": "code",
      "source": [
        "y_test_array[1]-pred[1]"
      ],
      "metadata": {
        "colab": {
          "base_uri": "https://localhost:8080/"
        },
        "id": "0FUxLw_VyC8E",
        "outputId": "052a1779-e268-4fa3-88a4-047d4e7452c1"
      },
      "execution_count": null,
      "outputs": [
        {
          "output_type": "execute_result",
          "data": {
            "text/plain": [
              "-0.2969898862097864"
            ]
          },
          "metadata": {},
          "execution_count": 17
        }
      ]
    },
    {
      "cell_type": "code",
      "source": [
        "# Mean Squared Error estimation\n",
        "i=0\n",
        "MSE=0\n",
        "for i in range(len(y_test)):\n",
        "  MSE = MSE+((pred[i]-y_test_array[i])**2)\n",
        "MSE = MSE/len(y_test)\n",
        "print(\"MSE:\",MSE)"
      ],
      "metadata": {
        "colab": {
          "base_uri": "https://localhost:8080/"
        },
        "id": "7FYZKc3U2S87",
        "outputId": "827bbb41-4430-4261-c6b1-4d8b76daa47a"
      },
      "execution_count": null,
      "outputs": [
        {
          "output_type": "stream",
          "name": "stdout",
          "text": [
            "MSE: 0.04738933111684661\n"
          ]
        }
      ]
    },
    {
      "cell_type": "code",
      "source": [
        "# Root Mean Squared Error estimation\n",
        "RMSE = math.sqrt(MSE)\n",
        "print(\"RMSE:\",RMSE)"
      ],
      "metadata": {
        "colab": {
          "base_uri": "https://localhost:8080/"
        },
        "id": "rXXBV6vR5Fj6",
        "outputId": "92d4aa81-8218-4216-9b66-fbe25d480964"
      },
      "execution_count": null,
      "outputs": [
        {
          "output_type": "stream",
          "name": "stdout",
          "text": [
            "RMSE: 0.2176909072902371\n"
          ]
        }
      ]
    },
    {
      "cell_type": "code",
      "source": [
        "# Mean Absolute Error estimation\n",
        "i=0\n",
        "MAE = 0\n",
        "for i in range(len(y_test)):\n",
        "  MAE = MAE+(abs(pred[i]-y_test_array[i]))\n",
        "MAE = MAE/len(y_test)\n",
        "print(\"MAE:\",MAE)"
      ],
      "metadata": {
        "colab": {
          "base_uri": "https://localhost:8080/"
        },
        "id": "9Sk-EBal5pa5",
        "outputId": "b23ce494-2337-438f-fbd4-0e1fd1191694"
      },
      "execution_count": null,
      "outputs": [
        {
          "output_type": "stream",
          "name": "stdout",
          "text": [
            "MAE: 0.1733680441076399\n"
          ]
        }
      ]
    },
    {
      "cell_type": "code",
      "source": [
        "# r2 score\n",
        "r2_score(y_test,pred)"
      ],
      "metadata": {
        "colab": {
          "base_uri": "https://localhost:8080/"
        },
        "id": "HtFMXKL6w3BR",
        "outputId": "6f8ffd66-191c-4f12-ac6f-1854fa102a9e"
      },
      "execution_count": null,
      "outputs": [
        {
          "output_type": "execute_result",
          "data": {
            "text/plain": [
              "0.9797568324491307"
            ]
          },
          "metadata": {},
          "execution_count": 21
        }
      ]
    },
    {
      "cell_type": "code",
      "source": [
        "# Create a cross-validation scheme\n",
        "folds = KFold(n_splits = 5, shuffle = True, random_state = 100)\n",
        "\n",
        "# Specify range of hyperparameters to tune\n",
        "hyper_params = [{'n_features_to_select': list(range(1, 4))}]\n",
        "\n",
        "# Call GridSearchCV()\n",
        "model_cv = GridSearchCV(estimator = rfe, \n",
        "                        param_grid = hyper_params, \n",
        "                        scoring= 'r2', \n",
        "                        cv = folds, \n",
        "                        verbose = 1,\n",
        "                        return_train_score=True)      \n",
        "\n",
        "# Fit the model\n",
        "model_cv.fit(x_train, y_train)                  \n"
      ],
      "metadata": {
        "colab": {
          "base_uri": "https://localhost:8080/"
        },
        "id": "1LoohIzLwB8T",
        "outputId": "aeb51cf3-ffcf-4933-8223-def074edba60"
      },
      "execution_count": null,
      "outputs": [
        {
          "output_type": "stream",
          "name": "stdout",
          "text": [
            "Fitting 5 folds for each of 3 candidates, totalling 15 fits\n"
          ]
        },
        {
          "output_type": "execute_result",
          "data": {
            "text/plain": [
              "GridSearchCV(cv=KFold(n_splits=5, random_state=100, shuffle=True),\n",
              "             estimator=RFE(estimator=LinearRegression(),\n",
              "                           n_features_to_select=6),\n",
              "             param_grid=[{'n_features_to_select': [1, 2, 3]}],\n",
              "             return_train_score=True, scoring='r2', verbose=1)"
            ]
          },
          "metadata": {},
          "execution_count": 22
        }
      ]
    },
    {
      "cell_type": "code",
      "source": [
        "cv_results = pd.DataFrame(model_cv.cv_results_)\n",
        "cv_results"
      ],
      "metadata": {
        "colab": {
          "base_uri": "https://localhost:8080/",
          "height": 289
        },
        "id": "GZLjNioU44Hc",
        "outputId": "00b6f5bf-c358-4fff-998a-9387e09105a6"
      },
      "execution_count": null,
      "outputs": [
        {
          "output_type": "execute_result",
          "data": {
            "text/plain": [
              "   mean_fit_time  std_fit_time  mean_score_time  std_score_time  \\\n",
              "0       0.004398      0.001737         0.001889        0.000675   \n",
              "1       0.003055      0.000351         0.001574        0.000121   \n",
              "2       0.002266      0.000518         0.001741        0.000580   \n",
              "\n",
              "  param_n_features_to_select                       params  split0_test_score  \\\n",
              "0                          1  {'n_features_to_select': 1}           0.940408   \n",
              "1                          2  {'n_features_to_select': 2}           0.949414   \n",
              "2                          3  {'n_features_to_select': 3}           0.967783   \n",
              "\n",
              "   split1_test_score  split2_test_score  split3_test_score  ...  \\\n",
              "0           0.965136           0.977857           0.981527  ...   \n",
              "1           0.973848           0.981343           0.981994  ...   \n",
              "2           0.980573           0.981405           0.983162  ...   \n",
              "\n",
              "   mean_test_score  std_test_score  rank_test_score  split0_train_score  \\\n",
              "0         0.963387        0.015486                3            0.973040   \n",
              "1         0.968090        0.013811                2            0.976814   \n",
              "2         0.975505        0.007716                1            0.980560   \n",
              "\n",
              "   split1_train_score  split2_train_score  split3_train_score  \\\n",
              "0            0.969040            0.965715            0.965664   \n",
              "1            0.972393            0.970542            0.971098   \n",
              "2            0.978129            0.978304            0.978061   \n",
              "\n",
              "   split4_train_score  mean_train_score  std_train_score  \n",
              "0            0.970822          0.968856         0.002879  \n",
              "1            0.975754          0.973320         0.002516  \n",
              "2            0.980959          0.979203         0.001280  \n",
              "\n",
              "[3 rows x 21 columns]"
            ],
            "text/html": [
              "\n",
              "  <div id=\"df-8cdff736-701e-4e95-b972-55cf2668d111\">\n",
              "    <div class=\"colab-df-container\">\n",
              "      <div>\n",
              "<style scoped>\n",
              "    .dataframe tbody tr th:only-of-type {\n",
              "        vertical-align: middle;\n",
              "    }\n",
              "\n",
              "    .dataframe tbody tr th {\n",
              "        vertical-align: top;\n",
              "    }\n",
              "\n",
              "    .dataframe thead th {\n",
              "        text-align: right;\n",
              "    }\n",
              "</style>\n",
              "<table border=\"1\" class=\"dataframe\">\n",
              "  <thead>\n",
              "    <tr style=\"text-align: right;\">\n",
              "      <th></th>\n",
              "      <th>mean_fit_time</th>\n",
              "      <th>std_fit_time</th>\n",
              "      <th>mean_score_time</th>\n",
              "      <th>std_score_time</th>\n",
              "      <th>param_n_features_to_select</th>\n",
              "      <th>params</th>\n",
              "      <th>split0_test_score</th>\n",
              "      <th>split1_test_score</th>\n",
              "      <th>split2_test_score</th>\n",
              "      <th>split3_test_score</th>\n",
              "      <th>...</th>\n",
              "      <th>mean_test_score</th>\n",
              "      <th>std_test_score</th>\n",
              "      <th>rank_test_score</th>\n",
              "      <th>split0_train_score</th>\n",
              "      <th>split1_train_score</th>\n",
              "      <th>split2_train_score</th>\n",
              "      <th>split3_train_score</th>\n",
              "      <th>split4_train_score</th>\n",
              "      <th>mean_train_score</th>\n",
              "      <th>std_train_score</th>\n",
              "    </tr>\n",
              "  </thead>\n",
              "  <tbody>\n",
              "    <tr>\n",
              "      <th>0</th>\n",
              "      <td>0.004398</td>\n",
              "      <td>0.001737</td>\n",
              "      <td>0.001889</td>\n",
              "      <td>0.000675</td>\n",
              "      <td>1</td>\n",
              "      <td>{'n_features_to_select': 1}</td>\n",
              "      <td>0.940408</td>\n",
              "      <td>0.965136</td>\n",
              "      <td>0.977857</td>\n",
              "      <td>0.981527</td>\n",
              "      <td>...</td>\n",
              "      <td>0.963387</td>\n",
              "      <td>0.015486</td>\n",
              "      <td>3</td>\n",
              "      <td>0.973040</td>\n",
              "      <td>0.969040</td>\n",
              "      <td>0.965715</td>\n",
              "      <td>0.965664</td>\n",
              "      <td>0.970822</td>\n",
              "      <td>0.968856</td>\n",
              "      <td>0.002879</td>\n",
              "    </tr>\n",
              "    <tr>\n",
              "      <th>1</th>\n",
              "      <td>0.003055</td>\n",
              "      <td>0.000351</td>\n",
              "      <td>0.001574</td>\n",
              "      <td>0.000121</td>\n",
              "      <td>2</td>\n",
              "      <td>{'n_features_to_select': 2}</td>\n",
              "      <td>0.949414</td>\n",
              "      <td>0.973848</td>\n",
              "      <td>0.981343</td>\n",
              "      <td>0.981994</td>\n",
              "      <td>...</td>\n",
              "      <td>0.968090</td>\n",
              "      <td>0.013811</td>\n",
              "      <td>2</td>\n",
              "      <td>0.976814</td>\n",
              "      <td>0.972393</td>\n",
              "      <td>0.970542</td>\n",
              "      <td>0.971098</td>\n",
              "      <td>0.975754</td>\n",
              "      <td>0.973320</td>\n",
              "      <td>0.002516</td>\n",
              "    </tr>\n",
              "    <tr>\n",
              "      <th>2</th>\n",
              "      <td>0.002266</td>\n",
              "      <td>0.000518</td>\n",
              "      <td>0.001741</td>\n",
              "      <td>0.000580</td>\n",
              "      <td>3</td>\n",
              "      <td>{'n_features_to_select': 3}</td>\n",
              "      <td>0.967783</td>\n",
              "      <td>0.980573</td>\n",
              "      <td>0.981405</td>\n",
              "      <td>0.983162</td>\n",
              "      <td>...</td>\n",
              "      <td>0.975505</td>\n",
              "      <td>0.007716</td>\n",
              "      <td>1</td>\n",
              "      <td>0.980560</td>\n",
              "      <td>0.978129</td>\n",
              "      <td>0.978304</td>\n",
              "      <td>0.978061</td>\n",
              "      <td>0.980959</td>\n",
              "      <td>0.979203</td>\n",
              "      <td>0.001280</td>\n",
              "    </tr>\n",
              "  </tbody>\n",
              "</table>\n",
              "<p>3 rows × 21 columns</p>\n",
              "</div>\n",
              "      <button class=\"colab-df-convert\" onclick=\"convertToInteractive('df-8cdff736-701e-4e95-b972-55cf2668d111')\"\n",
              "              title=\"Convert this dataframe to an interactive table.\"\n",
              "              style=\"display:none;\">\n",
              "        \n",
              "  <svg xmlns=\"http://www.w3.org/2000/svg\" height=\"24px\"viewBox=\"0 0 24 24\"\n",
              "       width=\"24px\">\n",
              "    <path d=\"M0 0h24v24H0V0z\" fill=\"none\"/>\n",
              "    <path d=\"M18.56 5.44l.94 2.06.94-2.06 2.06-.94-2.06-.94-.94-2.06-.94 2.06-2.06.94zm-11 1L8.5 8.5l.94-2.06 2.06-.94-2.06-.94L8.5 2.5l-.94 2.06-2.06.94zm10 10l.94 2.06.94-2.06 2.06-.94-2.06-.94-.94-2.06-.94 2.06-2.06.94z\"/><path d=\"M17.41 7.96l-1.37-1.37c-.4-.4-.92-.59-1.43-.59-.52 0-1.04.2-1.43.59L10.3 9.45l-7.72 7.72c-.78.78-.78 2.05 0 2.83L4 21.41c.39.39.9.59 1.41.59.51 0 1.02-.2 1.41-.59l7.78-7.78 2.81-2.81c.8-.78.8-2.07 0-2.86zM5.41 20L4 18.59l7.72-7.72 1.47 1.35L5.41 20z\"/>\n",
              "  </svg>\n",
              "      </button>\n",
              "      \n",
              "  <style>\n",
              "    .colab-df-container {\n",
              "      display:flex;\n",
              "      flex-wrap:wrap;\n",
              "      gap: 12px;\n",
              "    }\n",
              "\n",
              "    .colab-df-convert {\n",
              "      background-color: #E8F0FE;\n",
              "      border: none;\n",
              "      border-radius: 50%;\n",
              "      cursor: pointer;\n",
              "      display: none;\n",
              "      fill: #1967D2;\n",
              "      height: 32px;\n",
              "      padding: 0 0 0 0;\n",
              "      width: 32px;\n",
              "    }\n",
              "\n",
              "    .colab-df-convert:hover {\n",
              "      background-color: #E2EBFA;\n",
              "      box-shadow: 0px 1px 2px rgba(60, 64, 67, 0.3), 0px 1px 3px 1px rgba(60, 64, 67, 0.15);\n",
              "      fill: #174EA6;\n",
              "    }\n",
              "\n",
              "    [theme=dark] .colab-df-convert {\n",
              "      background-color: #3B4455;\n",
              "      fill: #D2E3FC;\n",
              "    }\n",
              "\n",
              "    [theme=dark] .colab-df-convert:hover {\n",
              "      background-color: #434B5C;\n",
              "      box-shadow: 0px 1px 3px 1px rgba(0, 0, 0, 0.15);\n",
              "      filter: drop-shadow(0px 1px 2px rgba(0, 0, 0, 0.3));\n",
              "      fill: #FFFFFF;\n",
              "    }\n",
              "  </style>\n",
              "\n",
              "      <script>\n",
              "        const buttonEl =\n",
              "          document.querySelector('#df-8cdff736-701e-4e95-b972-55cf2668d111 button.colab-df-convert');\n",
              "        buttonEl.style.display =\n",
              "          google.colab.kernel.accessAllowed ? 'block' : 'none';\n",
              "\n",
              "        async function convertToInteractive(key) {\n",
              "          const element = document.querySelector('#df-8cdff736-701e-4e95-b972-55cf2668d111');\n",
              "          const dataTable =\n",
              "            await google.colab.kernel.invokeFunction('convertToInteractive',\n",
              "                                                     [key], {});\n",
              "          if (!dataTable) return;\n",
              "\n",
              "          const docLinkHtml = 'Like what you see? Visit the ' +\n",
              "            '<a target=\"_blank\" href=https://colab.research.google.com/notebooks/data_table.ipynb>data table notebook</a>'\n",
              "            + ' to learn more about interactive tables.';\n",
              "          element.innerHTML = '';\n",
              "          dataTable['output_type'] = 'display_data';\n",
              "          await google.colab.output.renderOutput(dataTable, element);\n",
              "          const docLink = document.createElement('div');\n",
              "          docLink.innerHTML = docLinkHtml;\n",
              "          element.appendChild(docLink);\n",
              "        }\n",
              "      </script>\n",
              "    </div>\n",
              "  </div>\n",
              "  "
            ]
          },
          "metadata": {},
          "execution_count": 23
        }
      ]
    },
    {
      "cell_type": "code",
      "source": [
        "# Plotting cv results\n",
        "plt.figure(figsize=(16,6))\n",
        "\n",
        "plt.ylim([0,1])\n",
        "plt.plot(cv_results[\"param_n_features_to_select\"], cv_results[\"mean_test_score\"])\n",
        "plt.plot(cv_results[\"param_n_features_to_select\"], cv_results[\"mean_train_score\"])\n",
        "plt.xlabel('number of features')\n",
        "plt.ylabel('r-squared')\n",
        "plt.title(\"Optimal Number of Features\")\n",
        "plt.legend(['test score', 'train score'], loc='upper left')\n",
        "plt.show()"
      ],
      "metadata": {
        "colab": {
          "base_uri": "https://localhost:8080/",
          "height": 408
        },
        "id": "WJJ02X6S4550",
        "outputId": "d6f4a999-600e-43ad-9c5a-a9f040658095"
      },
      "execution_count": null,
      "outputs": [
        {
          "output_type": "display_data",
          "data": {
            "text/plain": [
              "<Figure size 1152x432 with 1 Axes>"
            ],
            "image/png": "[encoded data removed]"
          },
          "metadata": {}
        }
      ]
    },
    {
      "cell_type": "code",
      "source": [
        "op=input('Enter the opening price: ')\n",
        "print(f'Opening price is {op}.\\n')\n",
        "hi=input('Enter the high price: ')\n",
        "print(f'High price is {hi}.\\n')\n",
        "lo=input('Enter the low price: ')\n",
        "print(f'Low price is {lo}.\\n')\n",
        "clo=rfe.predict(np.array([[op,hi,lo]],dtype=float))\n",
        "print(f'Predicted closing price is {clo[0]}.')"
      ],
      "metadata": {
        "colab": {
          "base_uri": "https://localhost:8080/"
        },
        "id": "xbTD4fRDjziP",
        "outputId": "7eabd7d2-42c5-44c7-e63e-4947cd914dd0"
      },
      "execution_count": null,
      "outputs": [
        {
          "output_type": "stream",
          "name": "stdout",
          "text": [
            "Enter the opening price: 37.5\n",
            "Opening price is 37.5.\n",
            "\n",
            "Enter the high price: 37.75\n",
            "High price is 37.75.\n",
            "\n",
            "Enter the low price: 37\n",
            "Low price is 37.\n",
            "\n",
            "Predicted closing price is 37.28826745093191.\n"
          ]
        }
      ]
    }
  ]
}