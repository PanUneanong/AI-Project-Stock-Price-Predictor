{
  "nbformat": 4,
  "nbformat_minor": 0,
  "metadata": {
    "colab": {
      "name": "AI final project 2.ipynb",
      "provenance": [],
      "collapsed_sections": []
    },
    "kernelspec": {
      "name": "python3",
      "display_name": "Python 3"
    },
    "language_info": {
      "name": "python"
    }
  },
  "cells": [
    {
      "cell_type": "code",
      "source": [
        "from google.colab import drive\n",
        "drive.mount('/content/drive')"
      ],
      "metadata": {
        "colab": {
          "base_uri": "https://localhost:8080/"
        },
        "id": "ItTxtdmJhb4d",
        "outputId": "d65eb686-4237-4c71-919c-21b1e07488d0"
      },
      "execution_count": null,
      "outputs": [
        {
          "output_type": "stream",
          "name": "stdout",
          "text": [
            "Drive already mounted at /content/drive; to attempt to forcibly remount, call drive.mount(\"/content/drive\", force_remount=True).\n"
          ]
        }
      ]
    },
    {
      "cell_type": "code",
      "source": [
        "import pandas as pd\n",
        "import numpy as np\n",
        "from sklearn import datasets\n",
        "from sklearn.neural_network import MLPRegressor\n",
        "from sklearn.model_selection import train_test_split\n",
        "from sklearn.datasets import make_classification\n",
        "import matplotlib.pyplot as plt\n",
        "import seaborn as sns\n",
        "import pandas as pd\n",
        "import numpy as np\n",
        "plt.style.use('ggplot')\n",
        "#bnotes = pd.read_csv('/content/drive/MyDrive/PTT.BK.csv')\n",
        "bnotes = pd.read_csv('/content/drive/MyDrive/AI Tech Project/PTT.BK.csv')\n",
        "print(bnotes.head())\n",
        "#print(bnotes['class'].unique())"
      ],
      "metadata": {
        "colab": {
          "base_uri": "https://localhost:8080/"
        },
        "id": "p6eM_pULsSVN",
        "outputId": "ad906896-b2f8-4756-9c12-9d8251b00a9a"
      },
      "execution_count": null,
      "outputs": [
        {
          "output_type": "stream",
          "name": "stdout",
          "text": [
            "         Date   Open   High    Low  Close  Adj Close    Volume\n",
            "0  2021-03-15  41.75  42.00  41.00  41.25  39.222187  80602500\n",
            "1  2021-03-16  41.25  41.25  40.50  40.75  38.746765  63962400\n",
            "2  2021-03-17  40.50  40.75  40.00  40.50  38.509056  94213200\n",
            "3  2021-03-18  40.75  41.25  40.50  40.50  38.509056  48932200\n",
            "4  2021-03-19  40.00  40.50  39.75  40.50  38.509056  80270400\n"
          ]
        }
      ]
    },
    {
      "cell_type": "code",
      "source": [
        "# Drop the columns that we don't use\n",
        "bnotes.drop(['Date'], axis = 1, inplace = True)\n",
        "bnotes.drop(['Adj Close'], axis = 1, inplace = True)\n",
        "bnotes.drop(['Volume'], axis = 1, inplace = True)\n",
        "bnotes.head()"
      ],
      "metadata": {
        "colab": {
          "base_uri": "https://localhost:8080/",
          "height": 206
        },
        "id": "K4NfKrQChDFw",
        "outputId": "df9ecf4d-b811-4594-865c-2187faa61210"
      },
      "execution_count": null,
      "outputs": [
        {
          "output_type": "execute_result",
          "data": {
            "text/plain": [
              "    Open   High    Low  Close\n",
              "0  41.75  42.00  41.00  41.25\n",
              "1  41.25  41.25  40.50  40.75\n",
              "2  40.50  40.75  40.00  40.50\n",
              "3  40.75  41.25  40.50  40.50\n",
              "4  40.00  40.50  39.75  40.50"
            ],
            "text/html": [
              "\n",
              "  <div id=\"df-7eb51193-f5d4-4624-b4e8-0f3960f643ea\">\n",
              "    <div class=\"colab-df-container\">\n",
              "      <div>\n",
              "<style scoped>\n",
              "    .dataframe tbody tr th:only-of-type {\n",
              "        vertical-align: middle;\n",
              "    }\n",
              "\n",
              "    .dataframe tbody tr th {\n",
              "        vertical-align: top;\n",
              "    }\n",
              "\n",
              "    .dataframe thead th {\n",
              "        text-align: right;\n",
              "    }\n",
              "</style>\n",
              "<table border=\"1\" class=\"dataframe\">\n",
              "  <thead>\n",
              "    <tr style=\"text-align: right;\">\n",
              "      <th></th>\n",
              "      <th>Open</th>\n",
              "      <th>High</th>\n",
              "      <th>Low</th>\n",
              "      <th>Close</th>\n",
              "    </tr>\n",
              "  </thead>\n",
              "  <tbody>\n",
              "    <tr>\n",
              "      <th>0</th>\n",
              "      <td>41.75</td>\n",
              "      <td>42.00</td>\n",
              "      <td>41.00</td>\n",
              "      <td>41.25</td>\n",
              "    </tr>\n",
              "    <tr>\n",
              "      <th>1</th>\n",
              "      <td>41.25</td>\n",
              "      <td>41.25</td>\n",
              "      <td>40.50</td>\n",
              "      <td>40.75</td>\n",
              "    </tr>\n",
              "    <tr>\n",
              "      <th>2</th>\n",
              "      <td>40.50</td>\n",
              "      <td>40.75</td>\n",
              "      <td>40.00</td>\n",
              "      <td>40.50</td>\n",
              "    </tr>\n",
              "    <tr>\n",
              "      <th>3</th>\n",
              "      <td>40.75</td>\n",
              "      <td>41.25</td>\n",
              "      <td>40.50</td>\n",
              "      <td>40.50</td>\n",
              "    </tr>\n",
              "    <tr>\n",
              "      <th>4</th>\n",
              "      <td>40.00</td>\n",
              "      <td>40.50</td>\n",
              "      <td>39.75</td>\n",
              "      <td>40.50</td>\n",
              "    </tr>\n",
              "  </tbody>\n",
              "</table>\n",
              "</div>\n",
              "      <button class=\"colab-df-convert\" onclick=\"convertToInteractive('df-7eb51193-f5d4-4624-b4e8-0f3960f643ea')\"\n",
              "              title=\"Convert this dataframe to an interactive table.\"\n",
              "              style=\"display:none;\">\n",
              "        \n",
              "  <svg xmlns=\"http://www.w3.org/2000/svg\" height=\"24px\"viewBox=\"0 0 24 24\"\n",
              "       width=\"24px\">\n",
              "    <path d=\"M0 0h24v24H0V0z\" fill=\"none\"/>\n",
              "    <path d=\"M18.56 5.44l.94 2.06.94-2.06 2.06-.94-2.06-.94-.94-2.06-.94 2.06-2.06.94zm-11 1L8.5 8.5l.94-2.06 2.06-.94-2.06-.94L8.5 2.5l-.94 2.06-2.06.94zm10 10l.94 2.06.94-2.06 2.06-.94-2.06-.94-.94-2.06-.94 2.06-2.06.94z\"/><path d=\"M17.41 7.96l-1.37-1.37c-.4-.4-.92-.59-1.43-.59-.52 0-1.04.2-1.43.59L10.3 9.45l-7.72 7.72c-.78.78-.78 2.05 0 2.83L4 21.41c.39.39.9.59 1.41.59.51 0 1.02-.2 1.41-.59l7.78-7.78 2.81-2.81c.8-.78.8-2.07 0-2.86zM5.41 20L4 18.59l7.72-7.72 1.47 1.35L5.41 20z\"/>\n",
              "  </svg>\n",
              "      </button>\n",
              "      \n",
              "  <style>\n",
              "    .colab-df-container {\n",
              "      display:flex;\n",
              "      flex-wrap:wrap;\n",
              "      gap: 12px;\n",
              "    }\n",
              "\n",
              "    .colab-df-convert {\n",
              "      background-color: #E8F0FE;\n",
              "      border: none;\n",
              "      border-radius: 50%;\n",
              "      cursor: pointer;\n",
              "      display: none;\n",
              "      fill: #1967D2;\n",
              "      height: 32px;\n",
              "      padding: 0 0 0 0;\n",
              "      width: 32px;\n",
              "    }\n",
              "\n",
              "    .colab-df-convert:hover {\n",
              "      background-color: #E2EBFA;\n",
              "      box-shadow: 0px 1px 2px rgba(60, 64, 67, 0.3), 0px 1px 3px 1px rgba(60, 64, 67, 0.15);\n",
              "      fill: #174EA6;\n",
              "    }\n",
              "\n",
              "    [theme=dark] .colab-df-convert {\n",
              "      background-color: #3B4455;\n",
              "      fill: #D2E3FC;\n",
              "    }\n",
              "\n",
              "    [theme=dark] .colab-df-convert:hover {\n",
              "      background-color: #434B5C;\n",
              "      box-shadow: 0px 1px 3px 1px rgba(0, 0, 0, 0.15);\n",
              "      filter: drop-shadow(0px 1px 2px rgba(0, 0, 0, 0.3));\n",
              "      fill: #FFFFFF;\n",
              "    }\n",
              "  </style>\n",
              "\n",
              "      <script>\n",
              "        const buttonEl =\n",
              "          document.querySelector('#df-7eb51193-f5d4-4624-b4e8-0f3960f643ea button.colab-df-convert');\n",
              "        buttonEl.style.display =\n",
              "          google.colab.kernel.accessAllowed ? 'block' : 'none';\n",
              "\n",
              "        async function convertToInteractive(key) {\n",
              "          const element = document.querySelector('#df-7eb51193-f5d4-4624-b4e8-0f3960f643ea');\n",
              "          const dataTable =\n",
              "            await google.colab.kernel.invokeFunction('convertToInteractive',\n",
              "                                                     [key], {});\n",
              "          if (!dataTable) return;\n",
              "\n",
              "          const docLinkHtml = 'Like what you see? Visit the ' +\n",
              "            '<a target=\"_blank\" href=https://colab.research.google.com/notebooks/data_table.ipynb>data table notebook</a>'\n",
              "            + ' to learn more about interactive tables.';\n",
              "          element.innerHTML = '';\n",
              "          dataTable['output_type'] = 'display_data';\n",
              "          await google.colab.output.renderOutput(dataTable, element);\n",
              "          const docLink = document.createElement('div');\n",
              "          docLink.innerHTML = docLinkHtml;\n",
              "          element.appendChild(docLink);\n",
              "        }\n",
              "      </script>\n",
              "    </div>\n",
              "  </div>\n",
              "  "
            ]
          },
          "metadata": {},
          "execution_count": 20
        }
      ]
    },
    {
      "cell_type": "code",
      "source": [
        "# Define x and y\n",
        "# y is what column do we want to predict\n",
        "# x is the other columns except the one we want to predict\n",
        "x=bnotes.drop(['Close'], axis=1)\n",
        "y=bnotes['Close']\n",
        "print(f\"x---------------------------{len(x)}\\n{x.head()}\")\n",
        "print(f\"y---------------------------{len(y)}\\n{y.head()}\")"
      ],
      "metadata": {
        "colab": {
          "base_uri": "https://localhost:8080/"
        },
        "id": "LA-91223hBZw",
        "outputId": "3404cef5-d595-41e2-f07e-2115b987cd60"
      },
      "execution_count": null,
      "outputs": [
        {
          "output_type": "stream",
          "name": "stdout",
          "text": [
            "x---------------------------243\n",
            "    Open   High    Low\n",
            "0  41.75  42.00  41.00\n",
            "1  41.25  41.25  40.50\n",
            "2  40.50  40.75  40.00\n",
            "3  40.75  41.25  40.50\n",
            "4  40.00  40.50  39.75\n",
            "y---------------------------243\n",
            "0    41.25\n",
            "1    40.75\n",
            "2    40.50\n",
            "3    40.50\n",
            "4    40.50\n",
            "Name: Close, dtype: float64\n"
          ]
        }
      ]
    },
    {
      "cell_type": "code",
      "source": [
        "# Define x_test, x_train, y_test and y_train data\n",
        "x_train, x_test, y_train, y_test = train_test_split(x,y,test_size=0.2,random_state=100)\n",
        "print(f\"x_test---------------------------{len(x_test)}\\n{x_test.head()}\")\n",
        "print(f\"x_train---------------------------{len(x_train)}\\n{x_train.head()}\")\n",
        "print(f\"y_test---------------------------{len(y_test)}\\n{y_test.head()}\")\n",
        "print(f\"y_train---------------------------{len(y_train)}\\n{y_train.head()}\")"
      ],
      "metadata": {
        "colab": {
          "base_uri": "https://localhost:8080/"
        },
        "id": "bzQxR5LlhA72",
        "outputId": "15492b39-63f8-4018-d255-35c92a6cd1cd"
      },
      "execution_count": null,
      "outputs": [
        {
          "output_type": "stream",
          "name": "stdout",
          "text": [
            "x_test---------------------------49\n",
            "      Open   High    Low\n",
            "65   40.00  40.25  39.50\n",
            "59   41.00  42.00  40.75\n",
            "191  37.75  38.25  37.75\n",
            "111  38.25  38.50  37.50\n",
            "112  37.50  38.25  37.25\n",
            "x_train---------------------------194\n",
            "      Open   High    Low\n",
            "29   39.75  40.75  39.50\n",
            "42   39.75  39.75  38.75\n",
            "115  37.75  38.25  37.50\n",
            "165  38.00  38.25  37.50\n",
            "221  40.25  40.50  40.00\n",
            "y_test---------------------------49\n",
            "65     40.00\n",
            "59     41.25\n",
            "191    38.25\n",
            "111    37.50\n",
            "112    38.00\n",
            "Name: Close, dtype: float64\n",
            "y_train---------------------------194\n",
            "29     40.50\n",
            "42     39.00\n",
            "115    37.50\n",
            "165    37.75\n",
            "221    40.25\n",
            "Name: Close, dtype: float64\n"
          ]
        }
      ]
    },
    {
      "cell_type": "code",
      "source": [
        "# MLP\n",
        "model = MLPRegressor(random_state=1)\n",
        "model.fit(x_train.values, y_train.values)\n",
        "pred = model.predict(x_test.values)"
      ],
      "metadata": {
        "id": "fnuFGW_pvEsY"
      },
      "execution_count": null,
      "outputs": []
    },
    {
      "cell_type": "code",
      "source": [
        "pred_concat = pd.concat([y_test.reset_index(),pd.Series(pred, name = \"Predicted\")],axis=1)\n",
        "pred_concat.head()"
      ],
      "metadata": {
        "colab": {
          "base_uri": "https://localhost:8080/",
          "height": 206
        },
        "id": "7l9koGnRhNQo",
        "outputId": "80e1368d-5adf-4eae-d903-d3a61b6d1491"
      },
      "execution_count": null,
      "outputs": [
        {
          "output_type": "execute_result",
          "data": {
            "text/plain": [
              "   index  Close  Predicted\n",
              "0     65  40.00  40.994186\n",
              "1     59  41.25  42.302326\n",
              "2    191  38.25  38.959092\n",
              "3    111  37.50  39.085264\n",
              "4    112  38.00  38.650108"
            ],
            "text/html": [
              "\n",
              "  <div id=\"df-65b79e41-0ebb-4e56-a76d-6d2a7f63ec4e\">\n",
              "    <div class=\"colab-df-container\">\n",
              "      <div>\n",
              "<style scoped>\n",
              "    .dataframe tbody tr th:only-of-type {\n",
              "        vertical-align: middle;\n",
              "    }\n",
              "\n",
              "    .dataframe tbody tr th {\n",
              "        vertical-align: top;\n",
              "    }\n",
              "\n",
              "    .dataframe thead th {\n",
              "        text-align: right;\n",
              "    }\n",
              "</style>\n",
              "<table border=\"1\" class=\"dataframe\">\n",
              "  <thead>\n",
              "    <tr style=\"text-align: right;\">\n",
              "      <th></th>\n",
              "      <th>index</th>\n",
              "      <th>Close</th>\n",
              "      <th>Predicted</th>\n",
              "    </tr>\n",
              "  </thead>\n",
              "  <tbody>\n",
              "    <tr>\n",
              "      <th>0</th>\n",
              "      <td>65</td>\n",
              "      <td>40.00</td>\n",
              "      <td>40.994186</td>\n",
              "    </tr>\n",
              "    <tr>\n",
              "      <th>1</th>\n",
              "      <td>59</td>\n",
              "      <td>41.25</td>\n",
              "      <td>42.302326</td>\n",
              "    </tr>\n",
              "    <tr>\n",
              "      <th>2</th>\n",
              "      <td>191</td>\n",
              "      <td>38.25</td>\n",
              "      <td>38.959092</td>\n",
              "    </tr>\n",
              "    <tr>\n",
              "      <th>3</th>\n",
              "      <td>111</td>\n",
              "      <td>37.50</td>\n",
              "      <td>39.085264</td>\n",
              "    </tr>\n",
              "    <tr>\n",
              "      <th>4</th>\n",
              "      <td>112</td>\n",
              "      <td>38.00</td>\n",
              "      <td>38.650108</td>\n",
              "    </tr>\n",
              "  </tbody>\n",
              "</table>\n",
              "</div>\n",
              "      <button class=\"colab-df-convert\" onclick=\"convertToInteractive('df-65b79e41-0ebb-4e56-a76d-6d2a7f63ec4e')\"\n",
              "              title=\"Convert this dataframe to an interactive table.\"\n",
              "              style=\"display:none;\">\n",
              "        \n",
              "  <svg xmlns=\"http://www.w3.org/2000/svg\" height=\"24px\"viewBox=\"0 0 24 24\"\n",
              "       width=\"24px\">\n",
              "    <path d=\"M0 0h24v24H0V0z\" fill=\"none\"/>\n",
              "    <path d=\"M18.56 5.44l.94 2.06.94-2.06 2.06-.94-2.06-.94-.94-2.06-.94 2.06-2.06.94zm-11 1L8.5 8.5l.94-2.06 2.06-.94-2.06-.94L8.5 2.5l-.94 2.06-2.06.94zm10 10l.94 2.06.94-2.06 2.06-.94-2.06-.94-.94-2.06-.94 2.06-2.06.94z\"/><path d=\"M17.41 7.96l-1.37-1.37c-.4-.4-.92-.59-1.43-.59-.52 0-1.04.2-1.43.59L10.3 9.45l-7.72 7.72c-.78.78-.78 2.05 0 2.83L4 21.41c.39.39.9.59 1.41.59.51 0 1.02-.2 1.41-.59l7.78-7.78 2.81-2.81c.8-.78.8-2.07 0-2.86zM5.41 20L4 18.59l7.72-7.72 1.47 1.35L5.41 20z\"/>\n",
              "  </svg>\n",
              "      </button>\n",
              "      \n",
              "  <style>\n",
              "    .colab-df-container {\n",
              "      display:flex;\n",
              "      flex-wrap:wrap;\n",
              "      gap: 12px;\n",
              "    }\n",
              "\n",
              "    .colab-df-convert {\n",
              "      background-color: #E8F0FE;\n",
              "      border: none;\n",
              "      border-radius: 50%;\n",
              "      cursor: pointer;\n",
              "      display: none;\n",
              "      fill: #1967D2;\n",
              "      height: 32px;\n",
              "      padding: 0 0 0 0;\n",
              "      width: 32px;\n",
              "    }\n",
              "\n",
              "    .colab-df-convert:hover {\n",
              "      background-color: #E2EBFA;\n",
              "      box-shadow: 0px 1px 2px rgba(60, 64, 67, 0.3), 0px 1px 3px 1px rgba(60, 64, 67, 0.15);\n",
              "      fill: #174EA6;\n",
              "    }\n",
              "\n",
              "    [theme=dark] .colab-df-convert {\n",
              "      background-color: #3B4455;\n",
              "      fill: #D2E3FC;\n",
              "    }\n",
              "\n",
              "    [theme=dark] .colab-df-convert:hover {\n",
              "      background-color: #434B5C;\n",
              "      box-shadow: 0px 1px 3px 1px rgba(0, 0, 0, 0.15);\n",
              "      filter: drop-shadow(0px 1px 2px rgba(0, 0, 0, 0.3));\n",
              "      fill: #FFFFFF;\n",
              "    }\n",
              "  </style>\n",
              "\n",
              "      <script>\n",
              "        const buttonEl =\n",
              "          document.querySelector('#df-65b79e41-0ebb-4e56-a76d-6d2a7f63ec4e button.colab-df-convert');\n",
              "        buttonEl.style.display =\n",
              "          google.colab.kernel.accessAllowed ? 'block' : 'none';\n",
              "\n",
              "        async function convertToInteractive(key) {\n",
              "          const element = document.querySelector('#df-65b79e41-0ebb-4e56-a76d-6d2a7f63ec4e');\n",
              "          const dataTable =\n",
              "            await google.colab.kernel.invokeFunction('convertToInteractive',\n",
              "                                                     [key], {});\n",
              "          if (!dataTable) return;\n",
              "\n",
              "          const docLinkHtml = 'Like what you see? Visit the ' +\n",
              "            '<a target=\"_blank\" href=https://colab.research.google.com/notebooks/data_table.ipynb>data table notebook</a>'\n",
              "            + ' to learn more about interactive tables.';\n",
              "          element.innerHTML = '';\n",
              "          dataTable['output_type'] = 'display_data';\n",
              "          await google.colab.output.renderOutput(dataTable, element);\n",
              "          const docLink = document.createElement('div');\n",
              "          docLink.innerHTML = docLinkHtml;\n",
              "          element.appendChild(docLink);\n",
              "        }\n",
              "      </script>\n",
              "    </div>\n",
              "  </div>\n",
              "  "
            ]
          },
          "metadata": {},
          "execution_count": 24
        }
      ]
    },
    {
      "cell_type": "code",
      "source": [
        "# Sort the index\n",
        "concat_sorted = pred_concat.sort_values([\"index\"], ascending=True)\n",
        "print(concat_sorted)"
      ],
      "metadata": {
        "colab": {
          "base_uri": "https://localhost:8080/"
        },
        "id": "x8BL_VbZ40tO",
        "outputId": "9e132fc4-5bce-4c7c-9c39-8e3fed5da26c"
      },
      "execution_count": null,
      "outputs": [
        {
          "output_type": "stream",
          "name": "stdout",
          "text": [
            "    index  Close  Predicted\n",
            "32      3  40.50  41.933088\n",
            "46     19  39.00  40.223199\n",
            "26     26  38.75  39.819159\n",
            "11     31  39.50  41.318087\n",
            "34     32  39.75  40.795154\n",
            "39     41  39.75  40.590146\n",
            "20     46  38.75  39.966203\n",
            "1      59  41.25  42.302326\n",
            "48     62  39.75  40.847142\n",
            "30     64  40.00  41.361133\n",
            "0      65  40.00  40.994186\n",
            "16     69  39.25  40.590146\n",
            "44     75  37.25  39.004398\n",
            "18     81  37.50  38.277185\n",
            "9      83  35.75  37.029299\n",
            "13     85  36.25  37.249203\n",
            "12     88  35.50  36.368264\n",
            "35     96  34.75  35.765192\n",
            "17     97  34.50  35.686357\n",
            "8      99  35.25  35.875144\n",
            "40    110  38.25  39.452212\n",
            "3     111  37.50  39.085264\n",
            "4     112  38.00  38.650108\n",
            "24    125  39.50  40.045038\n",
            "41    128  40.50  41.419097\n",
            "37    140  39.50  40.737190\n",
            "21    142  40.00  40.758062\n",
            "6     150  38.00  39.305168\n",
            "23    152  38.00  39.048172\n",
            "7     160  37.50  39.027301\n",
            "5     161  38.00  38.760060\n",
            "10    163  38.00  39.216088\n",
            "15    182  37.50  38.424229\n",
            "14    185  37.00  38.366266\n",
            "42    186  37.50  38.476218\n",
            "19    190  38.00  38.901129\n",
            "2     191  38.25  38.959092\n",
            "29    201  38.75  39.908240\n",
            "25    204  39.00  39.589010\n",
            "28    209  39.00  39.620127\n",
            "47    210  38.75  39.452212\n",
            "36    211  38.75  39.819159\n",
            "45    213  38.75  40.312279\n",
            "31    217  40.00  40.994186\n",
            "27    220  40.50  41.618129\n",
            "38    223  40.25  41.508177\n",
            "33    225  39.50  40.936223\n",
            "43    237  38.25  39.121780\n",
            "22    238  38.75  39.452212\n"
          ]
        }
      ]
    },
    {
      "cell_type": "code",
      "source": [
        "# Plot the graph to compare the actual and predicted values\n",
        "plt.plot(concat_sorted['index'],concat_sorted['Close'],color='Blue',label='Close')\n",
        "plt.plot(concat_sorted['index'],concat_sorted['Predicted'],color='Red',label='Predicted')\n",
        "plt.legend()\n",
        "plt.plot();"
      ],
      "metadata": {
        "colab": {
          "base_uri": "https://localhost:8080/",
          "height": 265
        },
        "id": "y2M_vnUK4x-A",
        "outputId": "082eff80-9978-4d50-be86-637b7b8dea48"
      },
      "execution_count": null,
      "outputs": [
        {
          "output_type": "display_data",
          "data": {
            "text/plain": [
              "<Figure size 432x288 with 1 Axes>"
            ],
            "image/png": "[encoded data removed]"
          },
          "metadata": {}
        }
      ]
    },
    {
      "cell_type": "code",
      "source": [
        "y_test_array = y_test.to_numpy()\n",
        "y_test_array[1]-pred[1]"
      ],
      "metadata": {
        "colab": {
          "base_uri": "https://localhost:8080/"
        },
        "id": "tFP7yWsVhOuZ",
        "outputId": "791141bd-720c-4454-d9cc-38ba79a6a734"
      },
      "execution_count": null,
      "outputs": [
        {
          "output_type": "execute_result",
          "data": {
            "text/plain": [
              "-1.0523261454054165"
            ]
          },
          "metadata": {},
          "execution_count": 27
        }
      ]
    },
    {
      "cell_type": "code",
      "source": [
        "# Mean Squared Error estimation\n",
        "i=0\n",
        "MSE=0\n",
        "for i in range(len(y_test)):\n",
        "  MSE = MSE+((pred[i]-y_test_array[i])**2)\n",
        "MSE = MSE/len(y_test)\n",
        "print(\"MSE:\",MSE)"
      ],
      "metadata": {
        "colab": {
          "base_uri": "https://localhost:8080/"
        },
        "id": "N5yfpiRwhulK",
        "outputId": "1b1b47dc-a523-4cac-aa86-71702e7b35b2"
      },
      "execution_count": null,
      "outputs": [
        {
          "output_type": "stream",
          "name": "stdout",
          "text": [
            "MSE: 1.2493735384988933\n"
          ]
        }
      ]
    },
    {
      "cell_type": "code",
      "source": [
        "import math\n",
        "# Root Mean Squared Error estimation\n",
        "RMSE = math.sqrt(MSE)\n",
        "print(\"RMSE:\",RMSE)"
      ],
      "metadata": {
        "colab": {
          "base_uri": "https://localhost:8080/"
        },
        "id": "C0YBn0kzh0AM",
        "outputId": "92e57fc7-d376-48b7-bc1a-fad662b36dae"
      },
      "execution_count": null,
      "outputs": [
        {
          "output_type": "stream",
          "name": "stdout",
          "text": [
            "RMSE: 1.1177537915385898\n"
          ]
        }
      ]
    },
    {
      "cell_type": "code",
      "source": [
        "# Mean Absolute Error estimation\n",
        "i=0\n",
        "MAE = 0\n",
        "for i in range(len(y_test)):\n",
        "  MAE = MAE+(abs(pred[i]-y_test_array[i]))\n",
        "MAE = MAE/len(y_test)\n",
        "print(\"MAE:\",MAE)"
      ],
      "metadata": {
        "colab": {
          "base_uri": "https://localhost:8080/"
        },
        "id": "Q6c5Hne5h1Un",
        "outputId": "0c515f66-7007-46cb-b158-f6e1d632b323"
      },
      "execution_count": null,
      "outputs": [
        {
          "output_type": "stream",
          "name": "stdout",
          "text": [
            "MAE: 1.0756620737237785\n"
          ]
        }
      ]
    },
    {
      "cell_type": "code",
      "source": [
        "model.score(x_test.values, y_test.values)"
      ],
      "metadata": {
        "id": "gvkjoQD1ijS4",
        "outputId": "759b453d-180d-488a-aaaa-0fe6ab3993ab",
        "colab": {
          "base_uri": "https://localhost:8080/"
        }
      },
      "execution_count": null,
      "outputs": [
        {
          "output_type": "execute_result",
          "data": {
            "text/plain": [
              "0.4663086125631202"
            ]
          },
          "metadata": {},
          "execution_count": 31
        }
      ]
    },
    {
      "cell_type": "code",
      "source": [
        "op=input('Enter the opening price: ')\n",
        "print(f'Opening price is {op}.\\n')\n",
        "hi=input('Enter the high price: ')\n",
        "print(f'High price is {hi}.\\n')\n",
        "lo=input('Enter the low price: ')\n",
        "print(f'Low price is {lo}.\\n')\n",
        "clo=model.predict(np.array([[op,hi,lo]],dtype=float))\n",
        "print(f'Predicted closing price is {clo[0]}.')"
      ],
      "metadata": {
        "colab": {
          "base_uri": "https://localhost:8080/"
        },
        "id": "dKmYP0nKiheW",
        "outputId": "78e1f397-c08f-4e6f-91c0-3ff7822f44cf"
      },
      "execution_count": null,
      "outputs": [
        {
          "output_type": "stream",
          "name": "stdout",
          "text": [
            "Enter the opening price: 37.5\n",
            "Opening price is 37.5.\n",
            "\n",
            "Enter the high price: 37.75\n",
            "High price is 37.75.\n",
            "\n",
            "Enter the low price: 37\n",
            "Low price is 37.\n",
            "\n",
            "Predicted closing price is 38.42422918431194.\n"
          ]
        }
      ]
    }
  ]
}